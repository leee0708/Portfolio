{
 "cells": [
  {
   "cell_type": "code",
   "execution_count": null,
   "id": "6ac4a6c1",
   "metadata": {},
   "outputs": [],
   "source": [
    "import ipywidgets as widgets\n",
    "from IPython.display import display\n",
    "import requests\n",
    "\n",
    "text_age = widgets.Text(\n",
    "    value = \"\",\n",
    "    placeholder = \"Type Your Age\",\n",
    "    description = \"Age\",\n",
    "    disabled = False)\n",
    "\n",
    "text_sex = widgets.Text(\n",
    "    value = \"\",\n",
    "    placeholder = \"Type Your Sex (1 If Female Or 0 If Male)\",\n",
    "    description = \"Sex\",\n",
    "    disabled = False)\n",
    "\n",
    "text_claims = widgets.Text(\n",
    "    value = \"\",\n",
    "    placeholder = \"Type Your Total Amount of Claims\",\n",
    "    description = \"Total Amount of Claims\",\n",
    "    disabled = False)\n",
    "\n",
    "button = widgets.Button(description = \"Click After Inputs are filled\")\n",
    "\n",
    "def my_function(button):\n",
    "    url = \"https://ml-frauddetection-gvb7cymsrq-uc.a.run.app\"\n",
    "    r = requests.post(url, { \"age\" : text_age.value,\n",
    "    \"sex\" : text_sex.value,\n",
    "    \"total_claim_amount\" : text_claims.value})\n",
    "    \n",
    "    print(\"Prediction of an Insurance Fraud: \" , r.json()[\"prediction\"])\n",
    "    print(\"Probability of an Insurance Fraud: \" , r.json()[\"probability of an insurance fraud\"])\n",
    "\n",
    "button.on_click(my_function)\n",
    "\n",
    "display(\"Welcome to the easy auto insurance fraud detection!\")\n",
    "display(text_age)\n",
    "display(text_sex)\n",
    "display(text_claims)\n",
    "display(button)"
   ]
  }
 ],
 "metadata": {
  "kernelspec": {
   "display_name": "Python 3 (ipykernel)",
   "language": "python",
   "name": "python3"
  },
  "language_info": {
   "codemirror_mode": {
    "name": "ipython",
    "version": 3
   },
   "file_extension": ".py",
   "mimetype": "text/x-python",
   "name": "python",
   "nbconvert_exporter": "python",
   "pygments_lexer": "ipython3",
   "version": "3.9.13"
  }
 },
 "nbformat": 4,
 "nbformat_minor": 5
}
